{
  "nbformat": 4,
  "nbformat_minor": 0,
  "metadata": {
    "colab": {
      "provenance": [],
      "authorship_tag": "ABX9TyPSaNLcCLq/8rFUl2OLrEIl",
      "include_colab_link": true
    },
    "kernelspec": {
      "name": "python3",
      "display_name": "Python 3"
    },
    "language_info": {
      "name": "python"
    }
  },
  "cells": [
    {
      "cell_type": "markdown",
      "metadata": {
        "id": "view-in-github",
        "colab_type": "text"
      },
      "source": [
        "<a href=\"https://colab.research.google.com/github/Metusalen/Rosalynd/blob/main/2_Transcribing%20DNA%20into%20RNA.ipynb\" target=\"_parent\"><img src=\"https://colab.research.google.com/assets/colab-badge.svg\" alt=\"Open In Colab\"/></a>"
      ]
    },
    {
      "cell_type": "code",
      "execution_count": 2,
      "metadata": {
        "colab": {
          "base_uri": "https://localhost:8080/"
        },
        "id": "BbqiyxSyCzHD",
        "outputId": "d7dda4f6-aed3-4730-b6dc-507bc285d6ef"
      },
      "outputs": [
        {
          "output_type": "stream",
          "name": "stdout",
          "text": [
            "GAUGGAACUUGACUACGUAAAUU\n"
          ]
        }
      ],
      "source": [
        "class DNA:\n",
        "    def __init__(self, seq): self.seq = seq\n",
        "    def transcribe(self): return self.seq.replace('T', 'U')\n",
        "\n",
        "print(DNA(\"GATGGAACTTGACTACGTAAATT\").transcribe())"
      ]
    }
  ]
}